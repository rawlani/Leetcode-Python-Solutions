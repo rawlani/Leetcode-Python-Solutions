{
 "cells": [
  {
   "cell_type": "markdown",
   "metadata": {},
   "source": [
    "**Determine whether an integer is a palindrome.**<br>\n",
    "**An integer is a palindrome when it reads the same backward as forward.**\n",
    "\n",
    "**Follow up: Could you solve it without converting the integer to a string?**"
   ]
  },
  {
   "cell_type": "markdown",
   "metadata": {},
   "source": [
    "**Example 1:**\n",
    "\n",
    "Input: x = 121<br>\n",
    "Output: true<br>\n",
    "    \n",
    "**Example 2:**\n",
    "\n",
    "Input: x = -121<br>\n",
    "Output: false<br>\n",
    "Explanation: From left to right, it reads -121. From right to left, it becomes 121-. Therefore it is not a palindrome.\n",
    "\n",
    "**Example 3:**\n",
    "\n",
    "Input: x = 10<br>\n",
    "Output: false<br>\n",
    "Explanation: Reads 01 from right to left. Therefore it is not a palindrome.\n",
    "\n",
    "**Example 4:**\n",
    "\n",
    "Input: x = -101<br>\n",
    "Output: false<br>"
   ]
  },
  {
   "cell_type": "markdown",
   "metadata": {},
   "source": [
    "Logic:\n",
    "    \n",
    "    Example: 1234\n",
    "        1st Iteration:\n",
    "            x -> 1234//10 -> 123\n",
    "            y -> 1234%10 -> 4\n",
    "            z = 4\n",
    "            \n",
    "        2nd Iteration:\n",
    "            x -> 123//10 -> 12\n",
    "            y -> 123%10 -> 3\n",
    "            z -> 4*10 + 3 => 43\n",
    "        \n",
    "        3rd Iteration:\n",
    "            x -> 12//10 -> 1\n",
    "            y -> 12%10 -> 2\n",
    "            z -> 43*10 + 2 => 432\n",
    "        \n",
    "        4th Iteration:\n",
    "            x -> 1//10 -> 0\n",
    "            y -> 1%10 -> 1\n",
    "            z -> 432*10 + 1 => 4321\n",
    "    \n",
    "   *This way 1234 is converted to 4321 by traversing to each digit and stripping off each last digit*\n",
    " \n",
    "**Lessons to Learn:**\n",
    "1. Floor Division by 10 removes the ones' digit and gives remaining as output\n",
    "2. Modulo Divsion by 10 outputs the ones' digit only\n",
    "3. \"While loop\" is used here because the number could be infinitely long and we do not know the length\n",
    "4. In cases where the length is defined, we can use the \"for loop\""
   ]
  },
  {
   "cell_type": "code",
   "execution_count": null,
   "metadata": {},
   "outputs": [],
   "source": [
    "class Solution:\n",
    "    def isPalindrome(self, x: int) -> bool:\n",
    "        if(x < 0):\n",
    "            return False\n",
    "        \n",
    "        rev_num = 0\n",
    "        temp = x\n",
    "        while(temp!=0):\n",
    "            rev_num = rev_num*10 + temp % 10\n",
    "            temp //= 10\n",
    "        return x==rev_num"
   ]
  }
 ],
 "metadata": {
  "kernelspec": {
   "display_name": "Python 3",
   "language": "python",
   "name": "python3"
  },
  "language_info": {
   "codemirror_mode": {
    "name": "ipython",
    "version": 3
   },
   "file_extension": ".py",
   "mimetype": "text/x-python",
   "name": "python",
   "nbconvert_exporter": "python",
   "pygments_lexer": "ipython3",
   "version": "3.7.3"
  }
 },
 "nbformat": 4,
 "nbformat_minor": 2
}

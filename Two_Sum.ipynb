{
 "cells": [
  {
   "cell_type": "markdown",
   "metadata": {},
   "source": [
    "**Given an array of integers nums and an integer target, return indices of the two numbers such that they add up to target.**\n",
    "\n",
    "**You may assume that each input would have exactly one solution, and you may not use the same element twice.**\n",
    "\n",
    "**You can return the answer in any order.**"
   ]
  },
  {
   "cell_type": "markdown",
   "metadata": {},
   "source": [
    "**Example 1:**\n",
    "\n",
    "Input: nums = [2,7,11,15], target = 9<br>\n",
    "Output: [0,1]<br>\n",
    "Output: Because nums[0] + nums[1] == 9, we return [0, 1].<br>\n",
    "\n",
    "**Example 2:**\n",
    "\n",
    "Input: nums = [3,2,4], target = 6<br>\n",
    "Output: [1,2]<br>\n",
    "\n",
    "**Example 3:**\n",
    "\n",
    "Input: nums = [3,3], target = 6<br>\n",
    "Output: [0,1]<br>"
   ]
  },
  {
   "cell_type": "code",
   "execution_count": null,
   "metadata": {},
   "outputs": [],
   "source": [
    "# Method 1: Brute Force\n",
    "\n",
    "# Runtime: 5400 ms\n",
    "# Memory Usage: 15.2 MB\n",
    "\n",
    "class Solution:\n",
    "    def twoSum(self, nums: List[int], target: int) -> List[int]:\n",
    "        for i in range(len(nums)):\n",
    "            for j in range(i+1, len(nums)):\n",
    "                if(target == nums[i] + nums[j]):\n",
    "                    return [i,j]"
   ]
  },
  {
   "cell_type": "code",
   "execution_count": null,
   "metadata": {},
   "outputs": [],
   "source": [
    "# Method 2: \n",
    "\n",
    "# Store Complement in Dictionary and parallely search if complement exist in dictionary or not, \n",
    "# if yes then return the value and stop the search\n",
    "\n",
    "\n",
    "# Runtime: 44 ms\n",
    "# Memory Usage: 15.3 MB\n",
    "\n",
    "class Solution:\n",
    "    def twoSum(self, nums: List[int], target: int) -> List[int]:\n",
    "        \n",
    "        complement_dict = {}\n",
    "        for i in range(len(nums)):\n",
    "            if(nums[i] in complement_dict):\n",
    "                return [i, complement_dict[nums[i]]]\n",
    "            else:\n",
    "                complement_dict[target - nums[i]] = i"
   ]
  }
 ],
 "metadata": {
  "kernelspec": {
   "display_name": "Python 3",
   "language": "python",
   "name": "python3"
  },
  "language_info": {
   "codemirror_mode": {
    "name": "ipython",
    "version": 3
   },
   "file_extension": ".py",
   "mimetype": "text/x-python",
   "name": "python",
   "nbconvert_exporter": "python",
   "pygments_lexer": "ipython3",
   "version": "3.7.3"
  }
 },
 "nbformat": 4,
 "nbformat_minor": 2
}

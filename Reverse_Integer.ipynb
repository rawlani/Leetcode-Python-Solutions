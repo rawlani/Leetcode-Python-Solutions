{
 "cells": [
  {
   "cell_type": "markdown",
   "metadata": {},
   "source": [
    "**Given a 32-bit signed integer, reverse digits of an integer.**\n",
    "\n",
    "**Note:**<br>\n",
    "Assume we are dealing with an environment that could only store integers within the 32-bit signed integer range: [−2^31,  2^31 − 1].<br><br>\n",
    "For the purpose of this problem, assume that your function returns 0 when the reversed integer overflows."
   ]
  },
  {
   "cell_type": "markdown",
   "metadata": {},
   "source": [
    "**Example 1:**\n",
    "\n",
    "Input: x = 123<br>\n",
    "Output: 321\n",
    "\n",
    "**Example 2:**\n",
    "\n",
    "Input: x = -123<br>\n",
    "Output: -321\n",
    "\n",
    "**Example 3:**\n",
    "\n",
    "Input: x = 120<br>\n",
    "Output: 21"
   ]
  },
  {
   "cell_type": "code",
   "execution_count": null,
   "metadata": {},
   "outputs": [],
   "source": [
    "# Method 1: Best and Easiest Approach\n",
    "\n",
    "# Runtime: 16 ms\n",
    "# Memory Usage: 14.1 MB\n",
    "    \n",
    "    \n",
    "class Solution:\n",
    "    def reverse(self, x: int) -> int:\n",
    "        def reverseit(x):\n",
    "            return int(str(abs(x))[::-1])\n",
    "\n",
    "        def checkint(x):\n",
    "            if((x < -2**31) or (x > 2**31)):\n",
    "                return 0\n",
    "            else:\n",
    "                return x\n",
    "\n",
    "        if (x < 0):\n",
    "            return checkint((-1)*reverseit(x))\n",
    "\n",
    "        else:\n",
    "            return checkint(reverseit(x))"
   ]
  },
  {
   "cell_type": "code",
   "execution_count": null,
   "metadata": {},
   "outputs": [],
   "source": [
    "# Novice Approach (without use of Methods)\n",
    "\n",
    "# Runtime: 24 ms\n",
    "# Memory Usage: 14.3 MB\n",
    "    \n",
    "    \n",
    "class Solution:\n",
    "    def reverse(self, x: int) -> int:\n",
    "        if x < 0:\n",
    "            y = (-1)*int(str(abs(x))[::-1])\n",
    "        else:\n",
    "            y = int(str(abs(x))[::-1])\n",
    "        \n",
    "        if((y > ((2**31)-1)) or (y < -2**31)):\n",
    "            return 0\n",
    "        else:\n",
    "            return y"
   ]
  }
 ],
 "metadata": {
  "kernelspec": {
   "display_name": "Python 3",
   "language": "python",
   "name": "python3"
  },
  "language_info": {
   "codemirror_mode": {
    "name": "ipython",
    "version": 3
   },
   "file_extension": ".py",
   "mimetype": "text/x-python",
   "name": "python",
   "nbconvert_exporter": "python",
   "pygments_lexer": "ipython3",
   "version": "3.7.3"
  }
 },
 "nbformat": 4,
 "nbformat_minor": 2
}

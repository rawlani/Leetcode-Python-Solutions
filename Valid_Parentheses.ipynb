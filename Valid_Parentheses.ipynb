{
 "cells": [
  {
   "cell_type": "markdown",
   "metadata": {},
   "source": [
    "**Valid Parentheses**\n",
    "\n",
    "Given a string s containing just the characters '(', ')', '{', '}', '[' and ']', determine if the input string is valid.\n",
    "\n",
    "An input string is valid if:\n",
    "\n",
    "Open brackets must be closed by the same type of brackets.<br>\n",
    "Open brackets must be closed in the correct order.\n",
    " \n",
    "\n",
    "**Example 1:**\n",
    "\n",
    "Input: s = \"()\"<br>\n",
    "Output: true\n",
    "\n",
    "**Example 2:**\n",
    "\n",
    "Input: s = \"()[]{}\"<br>\n",
    "Output: true\n",
    "\n",
    "**Example 3:**\n",
    "\n",
    "Input: s = \"(]\"<br>\n",
    "Output: false\n",
    "\n",
    "**Example 4:**\n",
    "\n",
    "Input: s = \"([)]\"<br>\n",
    "Output: false\n",
    "\n",
    "**Example 5:**\n",
    "\n",
    "Input: s = \"{[]}\"<br>\n",
    "Output: true"
   ]
  },
  {
   "cell_type": "code",
   "execution_count": null,
   "metadata": {},
   "outputs": [],
   "source": [
    "# Runtime: 28 ms\n",
    "# Memory Usage: 14.1 MB\n",
    "\n",
    "class Solution:\n",
    "    def isValid(self, s: str) -> bool:\n",
    "        paren_dict = {')':'(', '}':'{', ']':'['}\n",
    "        paren_list = []\n",
    "        for i in s:\n",
    "            if i in paren_dict.keys():\n",
    "                if(len(paren_list) == 0):\n",
    "                    return False\n",
    "                elif(paren_list[-1] != paren_dict[i]):\n",
    "                    return False\n",
    "                else:\n",
    "                    paren_list.pop()\n",
    "            if i not in paren_dict.keys():\n",
    "                paren_list.append(i)\n",
    "        if(paren_list == []):\n",
    "            return True"
   ]
  }
 ],
 "metadata": {
  "kernelspec": {
   "display_name": "Python 3",
   "language": "python",
   "name": "python3"
  },
  "language_info": {
   "codemirror_mode": {
    "name": "ipython",
    "version": 3
   },
   "file_extension": ".py",
   "mimetype": "text/x-python",
   "name": "python",
   "nbconvert_exporter": "python",
   "pygments_lexer": "ipython3",
   "version": "3.7.3"
  }
 },
 "nbformat": 4,
 "nbformat_minor": 2
}

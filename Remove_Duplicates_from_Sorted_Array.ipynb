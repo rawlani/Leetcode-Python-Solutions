{
 "cells": [
  {
   "cell_type": "markdown",
   "metadata": {},
   "source": [
    "**Remove Duplicates from Sorted Array**\n",
    "\n",
    "Given a **sorted array** nums, remove the duplicates in-place such that each element appears only once and returns the new length.\n",
    "\n",
    "Do not allocate extra space for another array, you must do this by modifying the input array in-place with O(1) extra memory."
   ]
  },
  {
   "cell_type": "markdown",
   "metadata": {},
   "source": [
    "Essentially, if the input is [0,0,1,2,2,2,3,4,4,4,4,5,6]<br>\n",
    "the output should be [0,1,2,3,4,5,6,...]<br>\n",
    "the ... can contain remaining extra digits in any order<br>\n",
    "\n",
    "Its just that the unique element should appear first and we need to return the count of those unique elements"
   ]
  },
  {
   "cell_type": "markdown",
   "metadata": {},
   "source": [
    "**Concept: Two Pointer Approach**\n",
    "\n",
    "One of the pointer would be the one which is in the loop<br>\n",
    "Second pointer would be the one which will be counting the unique element\n",
    "\n",
    "**Logic:** continue the loop until the two elements are similar, and update the second pointer once we found a different element than previous one and replace the unique value in the list with the updated second pointer"
   ]
  },
  {
   "cell_type": "code",
   "execution_count": null,
   "metadata": {},
   "outputs": [],
   "source": [
    "class Solution:\n",
    "    def removeDuplicates(self, nums: List[int]) -> int:\n",
    "        if(nums==[]):\n",
    "            return 0\n",
    "        \n",
    "        second_pointer = 0\n",
    "        for i in range(len(nums)):\n",
    "            if(nums[i] != nums[second_pointer]):\n",
    "                second_pointer += 1\n",
    "                nums[second_pointer] = nums[i]\n",
    "        return second_pointer + 1"
   ]
  }
 ],
 "metadata": {
  "kernelspec": {
   "display_name": "Python 3",
   "language": "python",
   "name": "python3"
  },
  "language_info": {
   "codemirror_mode": {
    "name": "ipython",
    "version": 3
   },
   "file_extension": ".py",
   "mimetype": "text/x-python",
   "name": "python",
   "nbconvert_exporter": "python",
   "pygments_lexer": "ipython3",
   "version": "3.7.3"
  }
 },
 "nbformat": 4,
 "nbformat_minor": 2
}

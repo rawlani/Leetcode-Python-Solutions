{
 "cells": [
  {
   "cell_type": "markdown",
   "metadata": {},
   "source": [
    "**Best Time to Buy and Sell Stock**\n",
    "\n",
    "Say you have an array for which the ith element is the price of a given stock on day i.\n",
    "\n",
    "If you were only permitted to complete at most one transaction (i.e., buy one and sell one share of the stock), design an algorithm to find the maximum profit.\n",
    "\n",
    "Note that you cannot sell a stock before you buy one.\n",
    "\n",
    "**Example 1:**\n",
    "\n",
    "Input: [7,1,5,3,6,4]<br>\n",
    "Output: 5<br>\n",
    "Explanation: Buy on day 2 (price = 1) and sell on day 5 (price = 6), profit = 6-1 = 5.<br>\n",
    "                    Note 7-1 = 6, as selling price needs to be larger than buying price.\n",
    "\n",
    "**Example 2:**\n",
    "\n",
    "Input: [7,6,4,3,1]<br>\n",
    "Output: 0<br>\n",
    "Explanation: In this case, no transaction is done, i.e. max profit = 0."
   ]
  },
  {
   "cell_type": "code",
   "execution_count": null,
   "metadata": {},
   "outputs": [],
   "source": [
    "# Method 1: Brute Force\n",
    "\n",
    "class Solution:\n",
    "    def maxProfit(self, prices: List[int]) -> int:\n",
    "        max_sum = 0\n",
    "        for i in range(len(prices)-1):\n",
    "            for j in prices[i+1:]:\n",
    "                if(max_sum < (j-prices[i])):\n",
    "                    max_sum = j-prices[i]\n",
    "        return max_sum"
   ]
  },
  {
   "cell_type": "markdown",
   "metadata": {},
   "source": [
    "**Method 2: One Pass**\n",
    "\n",
    "Essentially, this is optimized version of Brute Force by looping only 1 time instead of nested looping\n",
    "\n",
    "So, conceptually we need to have **profit = i - (some constant value)**\n",
    "\n",
    "=> (some constant value) should be minimum\n",
    "\n",
    "=> what if we first figure out the minimum and then check for profit?\n",
    "\n",
    "=> how to check for minimum => if (some constant value) is less than some big value\n",
    "\n",
    "=> so, if we take the maximum of the prices from the array and then check for the minimized (some constant value)?"
   ]
  },
  {
   "cell_type": "code",
   "execution_count": null,
   "metadata": {},
   "outputs": [],
   "source": [
    "class Solution:\n",
    "    def maxProfit(self, prices: List[int]) -> int:\n",
    "        if prices:\n",
    "            min_val = max(prices)                # Maximum of prices\n",
    "            profit = 0\n",
    "            for i in prices:\n",
    "                if(min_val > i):                # Checking if the min_val considered is minimum or bigger\n",
    "                    min_val = i                 # updating if the min_val is bigger\n",
    "                else:                           # If the min_val is smaller then checking if profit is bigger or not\n",
    "                    if(profit < (i - min_val)):\n",
    "                        profit = i - min_val\n",
    "            return profit\n",
    "        else:\n",
    "            return 0"
   ]
  }
 ],
 "metadata": {
  "kernelspec": {
   "display_name": "Python 3",
   "language": "python",
   "name": "python3"
  },
  "language_info": {
   "codemirror_mode": {
    "name": "ipython",
    "version": 3
   },
   "file_extension": ".py",
   "mimetype": "text/x-python",
   "name": "python",
   "nbconvert_exporter": "python",
   "pygments_lexer": "ipython3",
   "version": "3.7.3"
  }
 },
 "nbformat": 4,
 "nbformat_minor": 2
}

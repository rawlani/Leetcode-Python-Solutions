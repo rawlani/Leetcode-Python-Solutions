{
 "cells": [
  {
   "cell_type": "markdown",
   "metadata": {},
   "source": [
    "**Maximum Subarray**\n",
    "\n",
    "Given an integer array nums, find the contiguous subarray (containing at least one number) which has the largest sum and return its sum.\n",
    "\n",
    "**Example 1:**\n",
    "\n",
    "Input: nums = [-2,1,-3,4,-1,2,1,-5,4]<br>\n",
    "Output: 6<br>\n",
    "Explanation: [4,-1,2,1] has the largest sum = 6.<br>\n",
    "\n",
    "**Example 2:**\n",
    "\n",
    "Input: nums = [1]<br>\n",
    "Output: 1<br>"
   ]
  },
  {
   "cell_type": "markdown",
   "metadata": {},
   "source": [
    "**Concept:** Iterate over the array and update the **current sum** and **max sum** as needed\n",
    "\n",
    "**Current Sum**: The sum of the contiguous array considered during loop<br>\n",
    "**Maximum Sum**: The sum that we found maximum while updating current sum"
   ]
  },
  {
   "cell_type": "markdown",
   "metadata": {},
   "source": [
    "**Explaination:**\n",
    "Initially let us take current sum and maximum sum as the first value of the array. **And we will start iteration from the second value of array.**\n",
    "\n",
    "    Input: nums = [-2,1,-3,4,-1,2,1,-5]\n",
    "    curr_sum = -2\n",
    "    max_sum = -2\n",
    "    \n",
    "    (Now we are assuming the contiguous array from the beginning will fetch us the maximum sum)\n",
    "    Iteration 1: \n",
    "        i = 1\n",
    "        curr_sum + i => -1 \n",
    "        -1 is less than 1 => This means this will not give us maximum sum so we should try the new one so, we will start a  new contiguous array with curr_Sum = 1 ; [1,-3,4,-1,2,1,-5]\n",
    "    \n",
    "    Iteration 2:\n",
    "        i = -3\n",
    "        curr_sum + i => -2\n",
    "        -2 is greater than -3 => we will continue with this new contiguous array and update curr_sum = -2\n",
    "        we will check for max_sum, if max_sum is less than curr_sum then we will update, but here it is not\n",
    "    \n",
    "    Iteration 3:\n",
    "        i = 4\n",
    "        curr_sum + i => 2\n",
    "        2 is less than 4 = > we have to change the contiguous array and start with curr_sum updated to 4; [4,-1,2,1,-5]\n",
    "        we will check for max_sum, if max_sum is less than curr_sum then we will update, so max_sum = 4\n",
    "       \n",
    "    Iteration 4:\n",
    "        i = -1\n",
    "        curr_sum + i => 3\n",
    "        3 is greater than -1 => we will continue with this new contiguous array and update curr_sum = 3\n",
    "        we will check for max_sum, if max_sum is less than curr_sum then we will update, but here it is not\n",
    "        \n",
    "    Iteration 5:\n",
    "        i = 2\n",
    "        curr_sum + i => 5\n",
    "        5 is greater than 2 => we will continue with this contiguous array and update curr_sum = 5\n",
    "        we will check for max_sum, if max_sum is less than curr_sum then we will update, so max_sum = 5\n",
    "        \n",
    "    Iteration 6:\n",
    "        i = 1\n",
    "        curr_sum + i => 6\n",
    "        6 is greater than 1 => we will continue with this contiguous array and update curr_sum = 6\n",
    "        we will check for max_sum, if max_sum is less than curr_sum then we will update, so max_sum = 6\n",
    "        \n",
    "    Iteration 7:\n",
    "        i = -5\n",
    "        curr_sum + i => 1\n",
    "        1 is greater than -5 => we will continue with this contiguous array and update curr_sum = 1\n",
    "        we will check for max_sum, if max_sum is less than curr_sum then we will update, but here it is not\n",
    "     \n",
    "\n",
    "Iteration over and max_value came out to be 6, so return 6"
   ]
  },
  {
   "cell_type": "code",
   "execution_count": null,
   "metadata": {},
   "outputs": [],
   "source": [
    "class Solution:\n",
    "    def maxSubArray(self, nums: List[int]) -> int:\n",
    "        if(len(nums)==1):\n",
    "            return nums[0]\n",
    "        \n",
    "        curr_sum = nums[0]\n",
    "        max_sum = nums[0]\n",
    "        for i in nums[1:]:\n",
    "            if((curr_sum + i) < i):\n",
    "                curr_sum = i\n",
    "            else:\n",
    "                curr_sum = curr_sum + i\n",
    "            if(max_sum < curr_sum):\n",
    "                max_sum = curr_sum\n",
    "        return max_sum"
   ]
  }
 ],
 "metadata": {
  "kernelspec": {
   "display_name": "Python 3",
   "language": "python",
   "name": "python3"
  },
  "language_info": {
   "codemirror_mode": {
    "name": "ipython",
    "version": 3
   },
   "file_extension": ".py",
   "mimetype": "text/x-python",
   "name": "python",
   "nbconvert_exporter": "python",
   "pygments_lexer": "ipython3",
   "version": "3.7.3"
  }
 },
 "nbformat": 4,
 "nbformat_minor": 2
}

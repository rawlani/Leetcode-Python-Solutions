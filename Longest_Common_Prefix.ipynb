{
 "cells": [
  {
   "cell_type": "markdown",
   "metadata": {},
   "source": [
    "**Longest Common Prefix**\n",
    "\n",
    "Write a function to find the longest common prefix string amongst an array of strings.\n",
    "\n",
    "If there is no common prefix, return an empty string \"\".\n",
    "\n",
    " \n",
    "\n",
    "**Example 1:**\n",
    "\n",
    "Input: strs = [\"flower\",\"flow\",\"flight\"]<br>\n",
    "Output: \"fl\"<br>\n",
    "\n",
    "**Example 2:**\n",
    "\n",
    "Input: strs = [\"dog\",\"racecar\",\"car\"]<br>\n",
    "Output: \"\"<br>\n",
    "Explanation: There is no common prefix among the input strings."
   ]
  },
  {
   "cell_type": "code",
   "execution_count": null,
   "metadata": {},
   "outputs": [],
   "source": [
    "# Brute Force\n",
    "\n",
    "# Runtime: 32 ms\n",
    "# Memory Usage: 14.2 MB\n",
    "\n",
    "class Solution:\n",
    "    def longestCommonPrefix(self, strs: List[str]) -> str:\n",
    "        if(strs==[]):\n",
    "            return \"\"\n",
    "        loop_len = min(strs, key=len)\n",
    "        for i in range(len(loop_len)):\n",
    "            for j in strs:\n",
    "                if(loop_len[i] != j[i]):\n",
    "                    return loop_len[:i]\n",
    "        return loop_len "
   ]
  },
  {
   "cell_type": "code",
   "execution_count": null,
   "metadata": {},
   "outputs": [],
   "source": []
  }
 ],
 "metadata": {
  "kernelspec": {
   "display_name": "Python 3",
   "language": "python",
   "name": "python3"
  },
  "language_info": {
   "codemirror_mode": {
    "name": "ipython",
    "version": 3
   },
   "file_extension": ".py",
   "mimetype": "text/x-python",
   "name": "python",
   "nbconvert_exporter": "python",
   "pygments_lexer": "ipython3",
   "version": "3.7.3"
  }
 },
 "nbformat": 4,
 "nbformat_minor": 2
}
